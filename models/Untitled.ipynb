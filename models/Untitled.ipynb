{
 "cells": [
  {
   "cell_type": "code",
   "execution_count": 24,
   "metadata": {},
   "outputs": [
    {
     "name": "stdout",
     "output_type": "stream",
     "text": [
      "tensor([[5.],\n",
      "        [5.]])\n",
      "tensor([[15.],\n",
      "        [15.]])\n",
      "tensor([[-10.],\n",
      "        [-10.]])\n",
      "tensor([[-30.],\n",
      "        [-30.]])\n"
     ]
    }
   ],
   "source": [
    "import torch\n",
    "x = torch.ones(2, 1)\n",
    "x.requires_grad=True\n",
    "x_3 = 3*x\n",
    "y = x_3+2\n",
    "z = torch.mean(torch.pow(y, 2))\n",
    "z_2 = torch.sum(torch.pow(y, 2))\n",
    "\n",
    "x.register_hook(lambda grad: print(grad))\n",
    "x_3.register_hook(lambda grad: print(grad))\n",
    "\n",
    "z.backward(retain_graph=True)\n",
    "y.register_hook(lambda grad: -(grad))\n",
    "z_2.backward()\n",
    "\n"
   ]
  },
  {
   "cell_type": "code",
   "execution_count": 25,
   "metadata": {},
   "outputs": [
    {
     "name": "stdout",
     "output_type": "stream",
     "text": [
      "tensor([[5.],\n",
      "        [5.]])\n",
      "tensor([[15.],\n",
      "        [15.]])\n"
     ]
    }
   ],
   "source": [
    "x = torch.ones(2, 1)\n",
    "x.requires_grad=True\n",
    "x_3 = 3*x\n",
    "y = x_3+2\n",
    "z = torch.mean(torch.pow(y, 2))\n",
    "x.register_hook(lambda grad: print(grad))\n",
    "x_3.register_hook(lambda grad: print(grad))\n",
    "z.backward(retain_graph=True)\n"
   ]
  },
  {
   "cell_type": "code",
   "execution_count": 26,
   "metadata": {},
   "outputs": [
    {
     "name": "stdout",
     "output_type": "stream",
     "text": [
      "tensor([[-10.],\n",
      "        [-10.]])\n",
      "tensor([[-30.],\n",
      "        [-30.]])\n"
     ]
    }
   ],
   "source": [
    "x = torch.ones(2, 1)\n",
    "x.requires_grad=True\n",
    "x_3 = 3*x\n",
    "y = x_3+2\n",
    "z_2 = torch.sum(torch.pow(y, 2))\n",
    "x.register_hook(lambda grad: print(grad))\n",
    "x_3.register_hook(lambda grad: print(grad))\n",
    "y.register_hook(lambda grad: -(grad))\n",
    "z_2.backward()"
   ]
  },
  {
   "cell_type": "code",
   "execution_count": null,
   "metadata": {},
   "outputs": [],
   "source": []
  }
 ],
 "metadata": {
  "kernelspec": {
   "display_name": "Python 3",
   "language": "python",
   "name": "python3"
  },
  "language_info": {
   "codemirror_mode": {
    "name": "ipython",
    "version": 3
   },
   "file_extension": ".py",
   "mimetype": "text/x-python",
   "name": "python",
   "nbconvert_exporter": "python",
   "pygments_lexer": "ipython3",
   "version": "3.6.5"
  }
 },
 "nbformat": 4,
 "nbformat_minor": 4
}
